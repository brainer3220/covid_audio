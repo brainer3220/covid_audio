{
 "cells": [
  {
   "cell_type": "code",
   "execution_count": 10,
   "outputs": [],
   "source": [
    "import pandas as pd\n",
    "import matplotlib.pyplot as plt\n",
    "import os"
   ],
   "metadata": {
    "collapsed": false,
    "pycharm": {
     "name": "#%%\n"
    }
   }
  },
  {
   "cell_type": "code",
   "execution_count": 8,
   "outputs": [],
   "source": [
    "train = pd.read_csv(\"data/train_mfcc_data.csv\")\n",
    "test = pd.read_csv(\"data/test_mfcc_data.csv\")"
   ],
   "metadata": {
    "collapsed": false,
    "pycharm": {
     "name": "#%%\n"
    }
   }
  },
  {
   "cell_type": "code",
   "execution_count": 28,
   "outputs": [
    {
     "data": {
      "text/plain": "        id  age  gender  respiratory_condition  fever_or_muscle_pain  covid19  \\\n6        7   33    male                      0                     0        1   \n14      15   30    male                      0                     0        1   \n15      16   24  female                      0                     0        1   \n22      23   31  female                      1                     0        1   \n26      27   12  female                      0                     1        1   \n...    ...  ...     ...                    ...                   ...      ...   \n3756  3757   41    male                      0                     0        1   \n3758  3759   13   other                      1                     0        1   \n3772  3773   27    male                      1                     1        1   \n3779  3780   34    male                      0                     0        1   \n3781  3782   17    male                      0                     0        1   \n\n         mfcc_1      mfcc_2     mfcc_3     mfcc_4  ...   mfcc_23   mfcc_24  \\\n6    -391.94632   20.508020   6.345723  -0.491744  ... -2.162467 -0.112567   \n14   -412.31042   44.211430  -8.100845  10.634684  ...  1.038226  1.633641   \n15   -232.60512   37.987087 -14.780663  -7.962826  ... -5.298728  1.100044   \n22   -715.96655   29.669401  -1.945810   1.993771  ... -1.158454 -1.761264   \n26   -428.38810   63.565674 -36.784230 -18.594604  ... -2.306007 -4.171999   \n...         ...         ...        ...        ...  ...       ...       ...   \n3756 -601.10170   14.259920  -1.896390   0.289319  ... -1.072299 -0.153434   \n3758 -298.00430  102.429410 -13.718901   1.789704  ... -3.238816 -0.854786   \n3772 -476.60992   22.959183 -12.526052  -7.234978  ...  0.518250  1.863204   \n3779 -746.08936   71.381390 -21.809814  42.501026  ... -0.638457 -4.529748   \n3781 -281.92000   90.113106 -27.613363   8.488904  ...  0.992544 -2.921914   \n\n       mfcc_25   mfcc_26   mfcc_27   mfcc_28   mfcc_29   mfcc_30   mfcc_31  \\\n6    -2.928096 -0.245753 -1.586465  0.893275  0.261700  2.157458  0.736151   \n14    0.757909  1.737505  0.176236  1.952161  0.060752 -0.858823 -1.594731   \n15   -4.498275  3.356630 -4.798197  2.046876 -1.681311  0.493885  1.232156   \n22   -1.851555 -1.151259 -0.729947  0.303695 -1.461285 -0.453170 -1.610665   \n26   -0.549109  3.435230 -0.063183  2.165172  4.075808  6.145233  2.712630   \n...        ...       ...       ...       ...       ...       ...       ...   \n3756 -0.500479 -0.053919 -0.890036  0.552195 -0.860287  0.449103  0.157192   \n3758 -1.630834 -0.689379 -0.882971 -0.310789 -1.437642  2.021047 -1.047938   \n3772  1.027031  0.677000 -0.247786  1.520479 -0.841284  0.382131 -0.527607   \n3779 -0.341034 -4.489949  1.873979  2.886089 -1.752191  3.509757  3.099755   \n3781 -3.082148 -0.921659 -5.735423  4.033788 -1.663380 -4.834220  0.526411   \n\n       mfcc_32  \n6     0.742410  \n14    0.432038  \n15   -0.241429  \n22   -0.580576  \n26    3.080471  \n...        ...  \n3756 -0.028122  \n3758 -1.382025  \n3772  0.186321  \n3779  2.067928  \n3781 -1.515926  \n\n[306 rows x 38 columns]",
      "text/html": "<div>\n<style scoped>\n    .dataframe tbody tr th:only-of-type {\n        vertical-align: middle;\n    }\n\n    .dataframe tbody tr th {\n        vertical-align: top;\n    }\n\n    .dataframe thead th {\n        text-align: right;\n    }\n</style>\n<table border=\"1\" class=\"dataframe\">\n  <thead>\n    <tr style=\"text-align: right;\">\n      <th></th>\n      <th>id</th>\n      <th>age</th>\n      <th>gender</th>\n      <th>respiratory_condition</th>\n      <th>fever_or_muscle_pain</th>\n      <th>covid19</th>\n      <th>mfcc_1</th>\n      <th>mfcc_2</th>\n      <th>mfcc_3</th>\n      <th>mfcc_4</th>\n      <th>...</th>\n      <th>mfcc_23</th>\n      <th>mfcc_24</th>\n      <th>mfcc_25</th>\n      <th>mfcc_26</th>\n      <th>mfcc_27</th>\n      <th>mfcc_28</th>\n      <th>mfcc_29</th>\n      <th>mfcc_30</th>\n      <th>mfcc_31</th>\n      <th>mfcc_32</th>\n    </tr>\n  </thead>\n  <tbody>\n    <tr>\n      <th>6</th>\n      <td>7</td>\n      <td>33</td>\n      <td>male</td>\n      <td>0</td>\n      <td>0</td>\n      <td>1</td>\n      <td>-391.94632</td>\n      <td>20.508020</td>\n      <td>6.345723</td>\n      <td>-0.491744</td>\n      <td>...</td>\n      <td>-2.162467</td>\n      <td>-0.112567</td>\n      <td>-2.928096</td>\n      <td>-0.245753</td>\n      <td>-1.586465</td>\n      <td>0.893275</td>\n      <td>0.261700</td>\n      <td>2.157458</td>\n      <td>0.736151</td>\n      <td>0.742410</td>\n    </tr>\n    <tr>\n      <th>14</th>\n      <td>15</td>\n      <td>30</td>\n      <td>male</td>\n      <td>0</td>\n      <td>0</td>\n      <td>1</td>\n      <td>-412.31042</td>\n      <td>44.211430</td>\n      <td>-8.100845</td>\n      <td>10.634684</td>\n      <td>...</td>\n      <td>1.038226</td>\n      <td>1.633641</td>\n      <td>0.757909</td>\n      <td>1.737505</td>\n      <td>0.176236</td>\n      <td>1.952161</td>\n      <td>0.060752</td>\n      <td>-0.858823</td>\n      <td>-1.594731</td>\n      <td>0.432038</td>\n    </tr>\n    <tr>\n      <th>15</th>\n      <td>16</td>\n      <td>24</td>\n      <td>female</td>\n      <td>0</td>\n      <td>0</td>\n      <td>1</td>\n      <td>-232.60512</td>\n      <td>37.987087</td>\n      <td>-14.780663</td>\n      <td>-7.962826</td>\n      <td>...</td>\n      <td>-5.298728</td>\n      <td>1.100044</td>\n      <td>-4.498275</td>\n      <td>3.356630</td>\n      <td>-4.798197</td>\n      <td>2.046876</td>\n      <td>-1.681311</td>\n      <td>0.493885</td>\n      <td>1.232156</td>\n      <td>-0.241429</td>\n    </tr>\n    <tr>\n      <th>22</th>\n      <td>23</td>\n      <td>31</td>\n      <td>female</td>\n      <td>1</td>\n      <td>0</td>\n      <td>1</td>\n      <td>-715.96655</td>\n      <td>29.669401</td>\n      <td>-1.945810</td>\n      <td>1.993771</td>\n      <td>...</td>\n      <td>-1.158454</td>\n      <td>-1.761264</td>\n      <td>-1.851555</td>\n      <td>-1.151259</td>\n      <td>-0.729947</td>\n      <td>0.303695</td>\n      <td>-1.461285</td>\n      <td>-0.453170</td>\n      <td>-1.610665</td>\n      <td>-0.580576</td>\n    </tr>\n    <tr>\n      <th>26</th>\n      <td>27</td>\n      <td>12</td>\n      <td>female</td>\n      <td>0</td>\n      <td>1</td>\n      <td>1</td>\n      <td>-428.38810</td>\n      <td>63.565674</td>\n      <td>-36.784230</td>\n      <td>-18.594604</td>\n      <td>...</td>\n      <td>-2.306007</td>\n      <td>-4.171999</td>\n      <td>-0.549109</td>\n      <td>3.435230</td>\n      <td>-0.063183</td>\n      <td>2.165172</td>\n      <td>4.075808</td>\n      <td>6.145233</td>\n      <td>2.712630</td>\n      <td>3.080471</td>\n    </tr>\n    <tr>\n      <th>...</th>\n      <td>...</td>\n      <td>...</td>\n      <td>...</td>\n      <td>...</td>\n      <td>...</td>\n      <td>...</td>\n      <td>...</td>\n      <td>...</td>\n      <td>...</td>\n      <td>...</td>\n      <td>...</td>\n      <td>...</td>\n      <td>...</td>\n      <td>...</td>\n      <td>...</td>\n      <td>...</td>\n      <td>...</td>\n      <td>...</td>\n      <td>...</td>\n      <td>...</td>\n      <td>...</td>\n    </tr>\n    <tr>\n      <th>3756</th>\n      <td>3757</td>\n      <td>41</td>\n      <td>male</td>\n      <td>0</td>\n      <td>0</td>\n      <td>1</td>\n      <td>-601.10170</td>\n      <td>14.259920</td>\n      <td>-1.896390</td>\n      <td>0.289319</td>\n      <td>...</td>\n      <td>-1.072299</td>\n      <td>-0.153434</td>\n      <td>-0.500479</td>\n      <td>-0.053919</td>\n      <td>-0.890036</td>\n      <td>0.552195</td>\n      <td>-0.860287</td>\n      <td>0.449103</td>\n      <td>0.157192</td>\n      <td>-0.028122</td>\n    </tr>\n    <tr>\n      <th>3758</th>\n      <td>3759</td>\n      <td>13</td>\n      <td>other</td>\n      <td>1</td>\n      <td>0</td>\n      <td>1</td>\n      <td>-298.00430</td>\n      <td>102.429410</td>\n      <td>-13.718901</td>\n      <td>1.789704</td>\n      <td>...</td>\n      <td>-3.238816</td>\n      <td>-0.854786</td>\n      <td>-1.630834</td>\n      <td>-0.689379</td>\n      <td>-0.882971</td>\n      <td>-0.310789</td>\n      <td>-1.437642</td>\n      <td>2.021047</td>\n      <td>-1.047938</td>\n      <td>-1.382025</td>\n    </tr>\n    <tr>\n      <th>3772</th>\n      <td>3773</td>\n      <td>27</td>\n      <td>male</td>\n      <td>1</td>\n      <td>1</td>\n      <td>1</td>\n      <td>-476.60992</td>\n      <td>22.959183</td>\n      <td>-12.526052</td>\n      <td>-7.234978</td>\n      <td>...</td>\n      <td>0.518250</td>\n      <td>1.863204</td>\n      <td>1.027031</td>\n      <td>0.677000</td>\n      <td>-0.247786</td>\n      <td>1.520479</td>\n      <td>-0.841284</td>\n      <td>0.382131</td>\n      <td>-0.527607</td>\n      <td>0.186321</td>\n    </tr>\n    <tr>\n      <th>3779</th>\n      <td>3780</td>\n      <td>34</td>\n      <td>male</td>\n      <td>0</td>\n      <td>0</td>\n      <td>1</td>\n      <td>-746.08936</td>\n      <td>71.381390</td>\n      <td>-21.809814</td>\n      <td>42.501026</td>\n      <td>...</td>\n      <td>-0.638457</td>\n      <td>-4.529748</td>\n      <td>-0.341034</td>\n      <td>-4.489949</td>\n      <td>1.873979</td>\n      <td>2.886089</td>\n      <td>-1.752191</td>\n      <td>3.509757</td>\n      <td>3.099755</td>\n      <td>2.067928</td>\n    </tr>\n    <tr>\n      <th>3781</th>\n      <td>3782</td>\n      <td>17</td>\n      <td>male</td>\n      <td>0</td>\n      <td>0</td>\n      <td>1</td>\n      <td>-281.92000</td>\n      <td>90.113106</td>\n      <td>-27.613363</td>\n      <td>8.488904</td>\n      <td>...</td>\n      <td>0.992544</td>\n      <td>-2.921914</td>\n      <td>-3.082148</td>\n      <td>-0.921659</td>\n      <td>-5.735423</td>\n      <td>4.033788</td>\n      <td>-1.663380</td>\n      <td>-4.834220</td>\n      <td>0.526411</td>\n      <td>-1.515926</td>\n    </tr>\n  </tbody>\n</table>\n<p>306 rows × 38 columns</p>\n</div>"
     },
     "execution_count": 28,
     "metadata": {},
     "output_type": "execute_result"
    }
   ],
   "source": [
    "train[train['covid19'] == 1]"
   ],
   "metadata": {
    "collapsed": false,
    "pycharm": {
     "name": "#%%\n"
    }
   }
  },
  {
   "cell_type": "code",
   "execution_count": 27,
   "outputs": [
    {
     "data": {
      "text/plain": "        id  covid19\n18    3824        1\n75    3881        1\n288   4094        1\n289   4095        1\n531   4337        1\n...    ...      ...\n5366  9172        1\n5429  9235        1\n5443  9249        1\n5669  9475        1\n5703  9509        1\n\n[78 rows x 2 columns]",
      "text/html": "<div>\n<style scoped>\n    .dataframe tbody tr th:only-of-type {\n        vertical-align: middle;\n    }\n\n    .dataframe tbody tr th {\n        vertical-align: top;\n    }\n\n    .dataframe thead th {\n        text-align: right;\n    }\n</style>\n<table border=\"1\" class=\"dataframe\">\n  <thead>\n    <tr style=\"text-align: right;\">\n      <th></th>\n      <th>id</th>\n      <th>covid19</th>\n    </tr>\n  </thead>\n  <tbody>\n    <tr>\n      <th>18</th>\n      <td>3824</td>\n      <td>1</td>\n    </tr>\n    <tr>\n      <th>75</th>\n      <td>3881</td>\n      <td>1</td>\n    </tr>\n    <tr>\n      <th>288</th>\n      <td>4094</td>\n      <td>1</td>\n    </tr>\n    <tr>\n      <th>289</th>\n      <td>4095</td>\n      <td>1</td>\n    </tr>\n    <tr>\n      <th>531</th>\n      <td>4337</td>\n      <td>1</td>\n    </tr>\n    <tr>\n      <th>...</th>\n      <td>...</td>\n      <td>...</td>\n    </tr>\n    <tr>\n      <th>5366</th>\n      <td>9172</td>\n      <td>1</td>\n    </tr>\n    <tr>\n      <th>5429</th>\n      <td>9235</td>\n      <td>1</td>\n    </tr>\n    <tr>\n      <th>5443</th>\n      <td>9249</td>\n      <td>1</td>\n    </tr>\n    <tr>\n      <th>5669</th>\n      <td>9475</td>\n      <td>1</td>\n    </tr>\n    <tr>\n      <th>5703</th>\n      <td>9509</td>\n      <td>1</td>\n    </tr>\n  </tbody>\n</table>\n<p>78 rows × 2 columns</p>\n</div>"
     },
     "execution_count": 27,
     "metadata": {},
     "output_type": "execute_result"
    }
   ],
   "source": [
    "mlp = pd.read_csv(\"MLP (100, 100, 100).csv\")\n",
    "mlp[mlp['covid19'] == 1]"
   ],
   "metadata": {
    "collapsed": false,
    "pycharm": {
     "name": "#%%\n"
    }
   }
  },
  {
   "cell_type": "code",
   "execution_count": null,
   "outputs": [],
   "source": [],
   "metadata": {
    "collapsed": false,
    "pycharm": {
     "name": "#%%\n"
    }
   }
  }
 ],
 "metadata": {
  "kernelspec": {
   "display_name": "Python 3",
   "language": "python",
   "name": "python3"
  },
  "language_info": {
   "codemirror_mode": {
    "name": "ipython",
    "version": 2
   },
   "file_extension": ".py",
   "mimetype": "text/x-python",
   "name": "python",
   "nbconvert_exporter": "python",
   "pygments_lexer": "ipython2",
   "version": "2.7.6"
  }
 },
 "nbformat": 4,
 "nbformat_minor": 0
}
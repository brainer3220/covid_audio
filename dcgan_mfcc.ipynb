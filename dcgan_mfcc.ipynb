{
 "cells": [
  {
   "cell_type": "code",
   "execution_count": 1,
   "metadata": {
    "pycharm": {
     "name": "#%%\n"
    }
   },
   "outputs": [],
   "source": [
    "%matplotlib inline\n",
    "# !apt-get update\n",
    "# !apt-get install -y libsndfile1\n",
    "# !pip install librosa\n",
    "# %pip install torchinfo"
   ]
  },
  {
   "cell_type": "markdown",
   "metadata": {
    "pycharm": {
     "name": "#%% md\n"
    }
   },
   "source": [
    "\n",
    "DCGAN Tutorial\n",
    "==============\n",
    "\n",
    "**Author**: `Nathan Inkawhich <https://github.com/inkawhich>`__\n"
   ]
  },
  {
   "cell_type": "code",
   "execution_count": 2,
   "outputs": [
    {
     "name": "stdout",
     "output_type": "stream",
     "text": [
      "Random Seed:  999\n"
     ]
    },
    {
     "data": {
      "text/plain": "<torch._C.Generator at 0x2872ec5c450>"
     },
     "execution_count": 2,
     "metadata": {},
     "output_type": "execute_result"
    }
   ],
   "source": [
    "# !pip3 install torch torchvision torchaudio --extra-index-url https://download.pytorch.org/whl/cu113\n",
    "\n",
    "from __future__ import print_function\n",
    "\n",
    "import os\n",
    "import random\n",
    "from glob import glob\n",
    "\n",
    "import matplotlib.animation as animation\n",
    "import matplotlib.pyplot as plt\n",
    "import torch.nn as nn\n",
    "import torch.optim as optim\n",
    "# from torchinfo import summary\n",
    "from IPython.display import HTML\n",
    "from torch.utils.data import Dataset\n",
    "\n",
    "from pre_process import *\n",
    "\n",
    "# Set random seed for reproducibility\n",
    "manualSeed = 999\n",
    "#manualSeed = random.randint(1, 10000) # use if you want new results\n",
    "print(\"Random Seed: \", manualSeed)\n",
    "random.seed(manualSeed)\n",
    "torch.manual_seed(manualSeed)"
   ],
   "metadata": {
    "collapsed": false,
    "pycharm": {
     "name": "#%%\n"
    }
   }
  },
  {
   "cell_type": "markdown",
   "source": [
    "Inputs\n",
    "------\n",
    "\n",
    "Let’s define some inputs for the run:\n",
    "\n",
    "-  **dataroot** - the path to the root of the dataset folder. We will\n",
    "   talk more about the dataset in the next section\n",
    "-  **workers** - the number of worker threads for loading the data with\n",
    "   the DataLoader\n",
    "-  **batch_size** - the batch size used in training. The DCGAN paper\n",
    "   uses a batch size of 128\n",
    "-  **image_size** - the spatial size of the images used for training.\n",
    "   This implementation defaults to 64x64. If another size is desired,\n",
    "   the structures of D and G must be changed. See\n",
    "   `here <https://github.com/pytorch/examples/issues/70>`__ for more\n",
    "   details\n",
    "-  **nc** - number of color channels in the input images. For color\n",
    "   images this is 3\n",
    "-  **nz** - length of latent vector\n",
    "-  **ngf** - relates to the depth of feature maps carried through the\n",
    "   generator\n",
    "-  **ndf** - sets the depth of feature maps propagated through the\n",
    "   discriminator\n",
    "-  **num_epochs** - number of training epochs to run. Training for\n",
    "   longer will probably lead to better results but will also take much\n",
    "   longer\n",
    "-  **lr** - learning rate for training. As described in the DCGAN paper,\n",
    "   this number should be 0.0002\n",
    "-  **beta1** - beta1 hyperparameter for Adam optimizers. As described in\n",
    "   paper, this number should be 0.5\n",
    "-  **ngpu** - number of GPUs available. If this is 0, code will run in\n",
    "   CPU mode. If this number is greater than 0 it will run on that number\n",
    "   of GPUs\n",
    "\n",
    "\n"
   ],
   "metadata": {
    "collapsed": false,
    "pycharm": {
     "name": "#%% md\n"
    }
   }
  },
  {
   "cell_type": "code",
   "execution_count": 3,
   "outputs": [],
   "source": [
    "# Number of workers for dataloader\n",
    "workers = 0\n",
    "\n",
    "# Batch size during training\n",
    "batch_size = 16\n",
    "\n",
    "# Spatial size of training images. All images will be resized to this\n",
    "#   size using a transformer.\n",
    "image_size = 51\n",
    "\n",
    "# Number of channels in the training images. For color images this is 3\n",
    "nc = 1\n",
    "\n",
    "# Size of z latent vector (i.e. size of generator input)\n",
    "nz = 200\n",
    "\n",
    "# Size of feature maps in generator\n",
    "ngf = 32\n",
    "\n",
    "# Size of feature maps in discriminator\n",
    "ndf = 1\n",
    "\n",
    "# Number of training epochs\n",
    "num_epochs = 2\n",
    "\n",
    "# Learning rate for optimizers\n",
    "lr = 0.0002\n",
    "\n",
    "# Beta1 hyperparam for Adam optimizers\n",
    "beta1 = 0.5\n",
    "\n",
    "# Number of GPUs available. Use 0 for CPU mode.\n",
    "ngpu = 1"
   ],
   "metadata": {
    "collapsed": false,
    "pycharm": {
     "name": "#%%\n"
    }
   }
  },
  {
   "cell_type": "code",
   "execution_count": 4,
   "outputs": [],
   "source": [
    "train_data = glob(\"data/train/*.wav\")\n",
    "test_data = glob(\"data/test/*.wav\")\n",
    "unlabel_data = glob(\"data/unlabeled/*.wav\")\n",
    "\n",
    "train_df = pd.read_csv(\"data/train_data.csv\")\n",
    "test_df = pd.read_csv(\"data/test_data.csv\")"
   ],
   "metadata": {
    "collapsed": false,
    "pycharm": {
     "name": "#%%\n"
    }
   }
  },
  {
   "cell_type": "code",
   "execution_count": 5,
   "outputs": [
    {
     "data": {
      "text/plain": "'cuda:0'"
     },
     "execution_count": 5,
     "metadata": {},
     "output_type": "execute_result"
    }
   ],
   "source": [
    "# Decide which device we want to run on\n",
    "if torch.cuda.is_available(): device = \"cuda:0\"\n",
    "elif torch.has_mps: device = \"mps\"\n",
    "else: device = \"cpu\"\n",
    "device"
   ],
   "metadata": {
    "collapsed": false,
    "pycharm": {
     "name": "#%%\n"
    }
   }
  },
  {
   "cell_type": "code",
   "execution_count": 6,
   "outputs": [],
   "source": [
    "# iloc[:, 5:]\n",
    "\n",
    "class DataGen(Dataset):\n",
    "    def __init__(self, data, df, is_train=True, only_img=False):\n",
    "        if not is_train:\n",
    "            self.x_data = np.array(data.iloc[:, 5:])\n",
    "            self.x_df = np.array(df.iloc[:, :5])\n",
    "            pass\n",
    "        else:\n",
    "            self.x_data = np.array(data.iloc[:, 6:])\n",
    "            self.x_df = np.array(df.iloc[:, :6])\n",
    "            self.y = df[\"covid19\"]\n",
    "        self.is_train = is_train\n",
    "        self.only_img = only_img\n",
    "\n",
    "    def __getitem__(self, index):\n",
    "        if self.is_train:\n",
    "            if self.only_img: return torch.tensor(self.x_data[index]).view(1, 32), torch.tensor(self.y[index]) #zero_pad(mfcc(get_melspectogram(self.x_data[index])))\n",
    "            else: return torch.tensor(self.x_data[index]).view(1, 32), torch.tensor(self.x_df[index]), torch.tensor(self.y[index]) #zero_pad(mfcc(get_melspectogram(self.x_data[index])), self.x_df[index], self.y[index])\n",
    "        else:\n",
    "            if self.only_img: return torch.tensor(self.x_data[index]).view(1, 32)\n",
    "            else: return torch.tensor(self.x_data[index]).view(1, 32), torch.tensor(self.x_df[index])\n",
    "\n",
    "    def __len__(self):\n",
    "        return len(self.x_data)"
   ],
   "metadata": {
    "collapsed": false,
    "pycharm": {
     "name": "#%%\n"
    }
   }
  },
  {
   "cell_type": "code",
   "execution_count": 7,
   "outputs": [],
   "source": [
    "dataset = DataGen(data=pd.read_csv(\"data/train_mfcc_data.csv\"), df=train_df, only_img=True)\n",
    "test_dataset = DataGen(data=pd.read_csv(\"data/test_mfcc_data.csv\"), df=test_df, is_train=False, only_img=True)\n",
    "\n",
    "dataloader = torch.utils.data.DataLoader(dataset=dataset, batch_size=batch_size,\n",
    "                                         shuffle=True, num_workers=workers)\n",
    "test_dataloader = torch.utils.data.DataLoader(dataset=test_dataset, batch_size=batch_size,\n",
    "                                             shuffle=True, num_workers=workers)\n",
    "# next(iter(dataloader))"
   ],
   "metadata": {
    "collapsed": false,
    "pycharm": {
     "name": "#%%\n"
    }
   }
  },
  {
   "cell_type": "code",
   "execution_count": 8,
   "outputs": [],
   "source": [
    "# dataiter = iter(dataloader)\n",
    "# dataiter.__next__()\n",
    "# next(iter(dataloader)).shape"
   ],
   "metadata": {
    "collapsed": false,
    "pycharm": {
     "name": "#%%\n"
    }
   }
  },
  {
   "cell_type": "code",
   "execution_count": 9,
   "outputs": [
    {
     "data": {
      "text/plain": "tensor([[-2.7493e+02,  2.9345e+01, -1.9153e+01, -7.8369e+00, -9.0941e+00,\n         -8.5535e+00, -3.2654e+01, -1.2341e+01, -5.1518e+00,  2.6698e+00,\n         -7.8654e+00,  1.0571e+01,  2.8873e+00,  4.5172e+00, -8.1871e+00,\n         -4.5959e-01, -6.6418e+00, -6.7001e-01, -4.5058e+00, -1.1374e+00,\n         -3.0701e-01,  2.1264e+00, -2.3209e+00,  2.1500e+00, -9.2542e-01,\n          2.1160e+00, -1.9273e-01,  2.4178e+00, -4.7367e+00,  1.2378e+00,\n         -1.6004e+00, -1.4624e+00]], dtype=torch.float64)"
     },
     "execution_count": 9,
     "metadata": {},
     "output_type": "execute_result"
    }
   ],
   "source": [
    "next(iter(dataset))[0]#.shape"
   ],
   "metadata": {
    "collapsed": false,
    "pycharm": {
     "name": "#%%\n"
    }
   }
  },
  {
   "cell_type": "markdown",
   "source": [
    "Implementation\n",
    "--------------\n",
    "\n",
    "With our input parameters set and the\n",
    " prepared, we can now get\n",
    "into the implementation. We will start with the weight initialization\n",
    "strategy, then talk about the generator, discriminator, loss functions,\n",
    "and training loop in detail.\n",
    "\n",
    "Weight Initialization\n",
    "~~~~~~~~~~~~~~~~~~~~~\n",
    "\n",
    "From the DCGAN paper, the authors specify that all model weights shall\n",
    "be randomly initialized from a Normal distribution with mean=0,\n",
    "stdev=0.02. The ``weights_init`` function takes an initialized model as\n",
    "input and reinitializes all convolutional, convolutional-transpose, and\n",
    "batch normalization layers to meet this criteria. This function is\n",
    "applied to the models immediately after initialization.\n",
    "\n",
    "\n"
   ],
   "metadata": {
    "collapsed": false,
    "pycharm": {
     "name": "#%% md\n"
    }
   }
  },
  {
   "cell_type": "code",
   "execution_count": 10,
   "outputs": [],
   "source": [
    "# custom weights initialization called on netG and netD\n",
    "def weights_init(m):\n",
    "    classname = m.__class__.__name__\n",
    "    if classname.find('Conv') != -1:\n",
    "        nn.init.normal_(m.weight.data, 0.0, 0.02)\n",
    "    elif classname.find('BatchNorm') != -1:\n",
    "        nn.init.normal_(m.weight.data, 1.0, 0.02)\n",
    "        nn.init.constant_(m.bias.data, 0)"
   ],
   "metadata": {
    "collapsed": false,
    "pycharm": {
     "name": "#%%\n"
    }
   }
  },
  {
   "cell_type": "code",
   "execution_count": 11,
   "outputs": [],
   "source": [
    "# Generator Code\n",
    "\n",
    "class Generator(nn.Module):\n",
    "    def __init__(self, ngpu):\n",
    "        super(Generator, self).__init__()\n",
    "        self.ngpu = ngpu\n",
    "        self.main = nn.Sequential(\n",
    "            # input is Z, going into a convolution\n",
    "            nn.ConvTranspose1d(nz, ngf * 8, 1, 1, 0, bias=False),\n",
    "            nn.BatchNorm1d(ngf * 8),\n",
    "            nn.ReLU(True),\n",
    "            # state size. (ngf*8) x 4 x 4\n",
    "            nn.ConvTranspose1d(ngf * 8, ngf * 4, 1, 2, bias=False),\n",
    "            nn.BatchNorm1d(ngf * 4),\n",
    "            nn.ReLU(True),\n",
    "            # state size. (ngf*4) x 8 x 8\n",
    "            nn.ConvTranspose1d( ngf * 4, ngf * 2, 1, 2, bias=False),\n",
    "            nn.BatchNorm1d(ngf * 2),\n",
    "            nn.ReLU(True),\n",
    "            # state size. (ngf*2) x 16 x 16\n",
    "            nn.ConvTranspose1d( ngf * 2, ngf, 1, 2, bias=False),\n",
    "            nn.BatchNorm1d(ngf),\n",
    "            nn.ReLU(True),\n",
    "            # state size. (ngf) x 32 x 32\n",
    "            nn.ConvTranspose1d(ngf, nc, 1, 2, bias=False),\n",
    "            nn.Linear(nc, 32),\n",
    "            nn.Sigmoid()\n",
    "            # state size. (nc) x 64 x 64\n",
    "        )\n",
    "\n",
    "    def forward(self, input):\n",
    "        return self.main(input)"
   ],
   "metadata": {
    "collapsed": false,
    "pycharm": {
     "name": "#%%\n"
    }
   }
  },
  {
   "cell_type": "markdown",
   "source": [
    "Now, we can instantiate the generator and apply the ``weights_init``\n",
    "function. Check out the printed model to see how the generator object is\n",
    "structured.\n",
    "\n",
    "\n"
   ],
   "metadata": {
    "collapsed": false,
    "pycharm": {
     "name": "#%% md\n"
    }
   }
  },
  {
   "cell_type": "code",
   "execution_count": 12,
   "outputs": [
    {
     "name": "stdout",
     "output_type": "stream",
     "text": [
      "Generator(\n",
      "  (main): Sequential(\n",
      "    (0): ConvTranspose1d(200, 256, kernel_size=(1,), stride=(1,), bias=False)\n",
      "    (1): BatchNorm1d(256, eps=1e-05, momentum=0.1, affine=True, track_running_stats=True)\n",
      "    (2): ReLU(inplace=True)\n",
      "    (3): ConvTranspose1d(256, 128, kernel_size=(1,), stride=(2,), bias=False)\n",
      "    (4): BatchNorm1d(128, eps=1e-05, momentum=0.1, affine=True, track_running_stats=True)\n",
      "    (5): ReLU(inplace=True)\n",
      "    (6): ConvTranspose1d(128, 64, kernel_size=(1,), stride=(2,), bias=False)\n",
      "    (7): BatchNorm1d(64, eps=1e-05, momentum=0.1, affine=True, track_running_stats=True)\n",
      "    (8): ReLU(inplace=True)\n",
      "    (9): ConvTranspose1d(64, 32, kernel_size=(1,), stride=(2,), bias=False)\n",
      "    (10): BatchNorm1d(32, eps=1e-05, momentum=0.1, affine=True, track_running_stats=True)\n",
      "    (11): ReLU(inplace=True)\n",
      "    (12): ConvTranspose1d(32, 1, kernel_size=(1,), stride=(2,), bias=False)\n",
      "    (13): Linear(in_features=1, out_features=32, bias=True)\n",
      "    (14): Sigmoid()\n",
      "  )\n",
      ")\n"
     ]
    }
   ],
   "source": [
    "# Create the generator\n",
    "netG = Generator(ngpu).to(device)\n",
    "\n",
    "# Handle multi-gpu if desired\n",
    "if (device == 'cuda') and (ngpu > 1):\n",
    "    netG = nn.DataParallel(netG, list(range(ngpu)))\n",
    "\n",
    "# Apply the weights_init function to randomly initialize all weights\n",
    "#  to mean=0, stdev=0.02.\n",
    "netG.apply(weights_init)\n",
    "\n",
    "# Print the model\n",
    "print(netG)"
   ],
   "metadata": {
    "collapsed": false,
    "pycharm": {
     "name": "#%%\n"
    }
   }
  },
  {
   "cell_type": "code",
   "execution_count": 13,
   "outputs": [],
   "source": [
    "torch.save(netG, \"netG.pt\")\n",
    "# netD.load_state_dict()\n",
    "# !pip install torchinfo\n",
    "# summary(netG, (1, 220))"
   ],
   "metadata": {
    "collapsed": false,
    "pycharm": {
     "name": "#%%\n"
    }
   }
  },
  {
   "cell_type": "markdown",
   "source": [
    "Discriminator\n",
    "~~~~~~~~~~~~~\n",
    "\n",
    "As mentioned, the discriminator, $D$, is a binary classification\n",
    "network that takes an image as input and outputs a scalar probability\n",
    "that the input image is real (as opposed to fake). Here, $D$ takes\n",
    "a 3x64x64 input image, processes it through a series of Conv2d,\n",
    "BatchNorm2d, and LeakyReLU layers, and outputs the final probability\n",
    "through a Sigmoid activation function. This architecture can be extended\n",
    "with more layers if necessary for the problem, but there is significance\n",
    "to the use of the strided convolution, BatchNorm, and LeakyReLUs. The\n",
    "DCGAN paper mentions it is a good practice to use strided convolution\n",
    "rather than pooling to downsample because it lets the network learn its\n",
    "own pooling function. Also batch norm and leaky relu functions promote\n",
    "healthy gradient flow which is critical for the learning process of both\n",
    "$G$ and $D$.\n",
    "\n",
    "\n"
   ],
   "metadata": {
    "collapsed": false,
    "pycharm": {
     "name": "#%% md\n"
    }
   }
  },
  {
   "cell_type": "markdown",
   "source": [
    "Discriminator Code\n",
    "\n"
   ],
   "metadata": {
    "collapsed": false,
    "pycharm": {
     "name": "#%% md\n"
    }
   }
  },
  {
   "cell_type": "code",
   "execution_count": 14,
   "outputs": [],
   "source": [
    "# 구분자 코드\n",
    "\n",
    "class Discriminator(nn.Module):\n",
    "    def __init__(self, ngpu):\n",
    "        super(Discriminator, self).__init__()\n",
    "        self.ngpu = ngpu\n",
    "        self.main = nn.Sequential(\n",
    "            nn.Conv1d(nc, ndf, 2, 2, 1, bias=False),\n",
    "            nn.LeakyReLU(0.2, inplace=True),\n",
    "\n",
    "            nn.Conv1d(ndf, ndf * 2, 2, 2, 1, bias=False),\n",
    "            nn.BatchNorm1d(ndf * 2),\n",
    "            nn.LeakyReLU(0.2, inplace=True),\n",
    "\n",
    "            nn.Conv1d(ndf * 2, ndf * 4, 2, 2, 1, bias=False),\n",
    "            nn.BatchNorm1d(ndf * 4),\n",
    "            nn.LeakyReLU(0.2, inplace=True),\n",
    "\n",
    "            nn.Conv1d(ndf * 4, ndf * 8, 2, 2, 1, bias=False),\n",
    "            nn.BatchNorm1d(ndf * 8),\n",
    "            nn.LeakyReLU(0.2, inplace=True),\n",
    "\n",
    "            nn.Conv1d(ndf * 8, 2, 3, 1, 0, bias=False),\n",
    "            nn.Conv1d(2, 1, 1),\n",
    "            nn.Sigmoid()\n",
    "        )\n",
    "\n",
    "    def forward(self, input):\n",
    "        return self.main(input)"
   ],
   "metadata": {
    "collapsed": false,
    "pycharm": {
     "name": "#%%\n"
    }
   }
  },
  {
   "cell_type": "markdown",
   "source": [
    "Now, as with the generator, we can create the discriminator, apply the\n",
    "``weights_init`` function, and print the model’s structure.\n",
    "\n",
    "\n"
   ],
   "metadata": {
    "collapsed": false,
    "pycharm": {
     "name": "#%% md\n"
    }
   }
  },
  {
   "cell_type": "code",
   "execution_count": 15,
   "outputs": [
    {
     "data": {
      "text/plain": "'cuda:0'"
     },
     "execution_count": 15,
     "metadata": {},
     "output_type": "execute_result"
    }
   ],
   "source": [
    "device"
   ],
   "metadata": {
    "collapsed": false,
    "pycharm": {
     "name": "#%%\n"
    }
   }
  },
  {
   "cell_type": "code",
   "execution_count": 16,
   "outputs": [
    {
     "name": "stdout",
     "output_type": "stream",
     "text": [
      "Discriminator(\n",
      "  (main): Sequential(\n",
      "    (0): Conv1d(1, 1, kernel_size=(2,), stride=(2,), padding=(1,), bias=False)\n",
      "    (1): LeakyReLU(negative_slope=0.2, inplace=True)\n",
      "    (2): Conv1d(1, 2, kernel_size=(2,), stride=(2,), padding=(1,), bias=False)\n",
      "    (3): BatchNorm1d(2, eps=1e-05, momentum=0.1, affine=True, track_running_stats=True)\n",
      "    (4): LeakyReLU(negative_slope=0.2, inplace=True)\n",
      "    (5): Conv1d(2, 4, kernel_size=(2,), stride=(2,), padding=(1,), bias=False)\n",
      "    (6): BatchNorm1d(4, eps=1e-05, momentum=0.1, affine=True, track_running_stats=True)\n",
      "    (7): LeakyReLU(negative_slope=0.2, inplace=True)\n",
      "    (8): Conv1d(4, 8, kernel_size=(2,), stride=(2,), padding=(1,), bias=False)\n",
      "    (9): BatchNorm1d(8, eps=1e-05, momentum=0.1, affine=True, track_running_stats=True)\n",
      "    (10): LeakyReLU(negative_slope=0.2, inplace=True)\n",
      "    (11): Conv1d(8, 2, kernel_size=(3,), stride=(1,), bias=False)\n",
      "    (12): Conv1d(2, 1, kernel_size=(1,), stride=(1,))\n",
      "    (13): Sigmoid()\n",
      "  )\n",
      ")\n"
     ]
    }
   ],
   "source": [
    "# Create the Discriminator\n",
    "netD = Discriminator(ngpu).to(device)\n",
    "\n",
    "# Handle multi-gpu if desired\n",
    "if (device == 'cuda' or device == 'mps') and (ngpu > 1):\n",
    "    netD = nn.DataParallel(netD, list(range(ngpu)))\n",
    "    \n",
    "# Apply the weights_init function to randomly initialize all weights\n",
    "#  to mean=0, stdev=0.2.\n",
    "netD.apply(weights_init)\n",
    "\n",
    "# Print the model\n",
    "print(netD)"
   ],
   "metadata": {
    "collapsed": false,
    "pycharm": {
     "name": "#%%\n"
    }
   }
  },
  {
   "cell_type": "code",
   "execution_count": 17,
   "outputs": [],
   "source": [
    "torch.save(netD, \"netD.pt\")\n",
    "# summary(netD, (1, 128, 2200))"
   ],
   "metadata": {
    "collapsed": false,
    "pycharm": {
     "name": "#%%\n"
    }
   }
  },
  {
   "cell_type": "code",
   "execution_count": 18,
   "outputs": [],
   "source": [
    "# Initialize BCELoss function\n",
    "criterion = nn.BCELoss()\n",
    "\n",
    "# Create batch of latent vectors that we will use to visualize\n",
    "#  the progression of the generator\n",
    "fixed_noise = torch.randn(nz, 200, 1, device=device)\n",
    "\n",
    "# Establish convention for real and fake labels during training\n",
    "real_label = 1.\n",
    "fake_label = 0.\n",
    "\n",
    "# Setup Adam optimizers for both G and D\n",
    "optimizerD = optim.NAdam(netD.parameters(), lr=lr, betas=(beta1, 0.999))\n",
    "optimizerG = optim.NAdam(netG.parameters(), lr=lr, betas=(beta1, 0.999))"
   ],
   "metadata": {
    "collapsed": false,
    "pycharm": {
     "name": "#%%\n"
    }
   }
  },
  {
   "cell_type": "code",
   "execution_count": 19,
   "outputs": [
    {
     "data": {
      "text/plain": "torch.Size([200, 200, 1])"
     },
     "execution_count": 19,
     "metadata": {},
     "output_type": "execute_result"
    }
   ],
   "source": [
    "fixed_noise.shape"
   ],
   "metadata": {
    "collapsed": false,
    "pycharm": {
     "name": "#%%\n"
    }
   }
  },
  {
   "cell_type": "code",
   "execution_count": 20,
   "outputs": [
    {
     "name": "stdout",
     "output_type": "stream",
     "text": [
      "Starting Training Loopx...\n",
      "[0/2][0/238]\tLoss_D: 1.6547\tLoss_G: 0.5687\tD(x): 0.5665\tD(G(z)): 0.5663 / 0.5663\n",
      "[0/2][50/238]\tLoss_D: 1.6173\tLoss_G: 0.5780\tD(x): 0.5617\tD(G(z)): 0.5612 / 0.5610\n",
      "[0/2][100/238]\tLoss_D: 1.6100\tLoss_G: 0.5943\tD(x): 0.5536\tD(G(z)): 0.5522 / 0.5519\n",
      "[0/2][150/238]\tLoss_D: 1.5389\tLoss_G: 0.6199\tD(x): 0.5407\tD(G(z)): 0.5383 / 0.5380\n",
      "[0/2][200/238]\tLoss_D: 1.4676\tLoss_G: 0.6555\tD(x): 0.5222\tD(G(z)): 0.5197 / 0.5192\n",
      "[1/2][0/238]\tLoss_D: 1.4084\tLoss_G: 0.6894\tD(x): 0.5086\tD(G(z)): 0.5023 / 0.5019\n",
      "[1/2][50/238]\tLoss_D: 1.2948\tLoss_G: 0.7459\tD(x): 0.4781\tD(G(z)): 0.4750 / 0.4743\n",
      "[1/2][100/238]\tLoss_D: 1.1903\tLoss_G: 0.8149\tD(x): 0.4470\tD(G(z)): 0.4435 / 0.4427\n",
      "[1/2][150/238]\tLoss_D: 1.1097\tLoss_G: 0.9000\tD(x): 0.4134\tD(G(z)): 0.4074 / 0.4066\n",
      "[1/2][200/238]\tLoss_D: 0.9345\tLoss_G: 0.9973\tD(x): 0.3765\tD(G(z)): 0.3699 / 0.3689\n"
     ]
    }
   ],
   "source": [
    "# Training Loop\n",
    "\n",
    "# Lists to keep track of progress\n",
    "img_list = []\n",
    "G_losses = []\n",
    "D_losses = []\n",
    "iters = 0\n",
    "\n",
    "print(\"Starting Training Loopx...\")\n",
    "# For each epoch\n",
    "for epoch in range(num_epochs):\n",
    "    # For each batch in the dataloader\n",
    "    for i, data in enumerate(dataloader):\n",
    "        \n",
    "        ############################\n",
    "        # (1) Update D network: maximize log(D(x)) + log(1 - D(G(z)))\n",
    "        ###########################\n",
    "        ## Train with all-real batch\n",
    "        netD.zero_grad()\n",
    "        # Format batch\n",
    "        real_cpu = data[0].to(device).float()\n",
    "        b_size = real_cpu.size(0)\n",
    "        label = data[1] #torch.full((b_size,), real_label, dtype=torch.float, device=device)\n",
    "        label = label.type(torch.FloatTensor).to(device)\n",
    "\n",
    "        # print(\"real cpu: \", real_cpu.shape)\n",
    "        # print(\"label: \", label.shape)\n",
    "\n",
    "        # Forward pass real batch through D\n",
    "        output = netD(real_cpu).view(-1)\n",
    "        # Calculate loss on all-real batch\n",
    "\n",
    "        # print(\"output: \", output.shape)\n",
    "\n",
    "        errD_real = criterion(output, label)\n",
    "\n",
    "        # print(\"errD_real: \", errD_real)\n",
    "\n",
    "        # Calculate gradients for D in backward pass\n",
    "        errD_real.backward()\n",
    "        D_x = output.mean().item()\n",
    "\n",
    "        ## Train with all-fake batch\n",
    "        # Generate batch of latent vectors\n",
    "        noise = torch.randn(b_size, 200, 1, device=device)\n",
    "\n",
    "        # print(\"noise: \", noise.shape)\n",
    "\n",
    "        # Generate fake image batch with G\n",
    "        fake = netG(noise)\n",
    "\n",
    "        # print(\"fake\", fake.to('cpu').detach().numpy().shape)\n",
    "\n",
    "        label.fill_(fake_label)\n",
    "        # Classify all fake batch with D\n",
    "        output = netD(fake.detach()).view(-1)\n",
    "\n",
    "        # print(\"output\", output)\n",
    "\n",
    "        # Calculate D's loss on the all-fake batch\n",
    "        errD_fake = criterion(output, label)\n",
    "        # Calculate the gradients for this batch, accumulated (summed) with previous gradients\n",
    "        errD_fake.backward()\n",
    "        D_G_z1 = output.mean().item()\n",
    "        # Compute error of D as sum over the fake and the real batches\n",
    "        errD = errD_real + errD_fake\n",
    "        # Update D\n",
    "        optimizerD.step()\n",
    "\n",
    "        ############################\n",
    "        # (2) Update G network: maximize log(D(G(z)))\n",
    "        ###########################\n",
    "        netG.zero_grad()\n",
    "        label.fill_(real_label)  # fake labels are real for generator cost\n",
    "        # Since we just updated D, perform another forward pass of all-fake batch through D\n",
    "        output = netD(fake).view(-1)\n",
    "        # Calculate G's loss based on this output\n",
    "        errG = criterion(output, label)\n",
    "\n",
    "        # print(\"errG\", errG)\n",
    "\n",
    "        # Calculate gradients for G\n",
    "        errG.backward()\n",
    "        D_G_z2 = output.mean().item()\n",
    "        # Update G\n",
    "        optimizerG.step()\n",
    "        \n",
    "        # Output training stats\n",
    "        if i % 50 == 0:\n",
    "            print('[%d/%d][%d/%d]\\tLoss_D: %.4f\\tLoss_G: %.4f\\tD(x): %.4f\\tD(G(z)): %.4f / %.4f'\n",
    "                  % (epoch, num_epochs, i, len(dataloader),\n",
    "                     errD.item(), errG.item(), D_x, D_G_z1, D_G_z2))\n",
    "        \n",
    "        # Save Losses for plotting later\n",
    "        G_losses.append(errG.item())\n",
    "        D_losses.append(errD.item())\n",
    "        \n",
    "        # Check how the generator is doing by saving G's output on fixed_noise\n",
    "        if (iters % 500 == 0) or ((epoch == num_epochs-1) and (i == len(dataloader)-1)):\n",
    "            with torch.no_grad():\n",
    "                fake = netG(fixed_noise).detach().cpu()\n",
    "            # img_list.append(vutils.make_grid(fake, padding=2, normalize=True))\n",
    "            \n",
    "        iters += 1"
   ],
   "metadata": {
    "collapsed": false,
    "pycharm": {
     "name": "#%%\n"
    }
   }
  },
  {
   "cell_type": "markdown",
   "source": [
    "Results\n",
    "-------\n",
    "\n",
    "Finally, lets check out how we did. Here, we will look at three\n",
    "different results. First, we will see how D and G’s losses changed\n",
    "during training. Second, we will visualize G’s output on the fixed_noise\n",
    "batch for every epoch. And third, we will look at a batch of real data\n",
    "next to a batch of fake data from G.\n",
    "\n",
    "**Loss versus training iteration**\n",
    "\n",
    "Below is a plot of D & G’s losses versus training iterations.\n",
    "\n",
    "\n"
   ],
   "metadata": {
    "collapsed": false,
    "pycharm": {
     "name": "#%% md\n"
    }
   }
  },
  {
   "cell_type": "code",
   "execution_count": 21,
   "outputs": [
    {
     "data": {
      "text/plain": "<Figure size 720x360 with 1 Axes>",
      "image/png": "[encoded data removed]"
     },
     "metadata": {
      "needs_background": "light"
     },
     "output_type": "display_data"
    }
   ],
   "source": [
    "plt.figure(figsize=(10,5))\n",
    "plt.title(\"Generator and Discriminator Loss During Training\")\n",
    "plt.plot(G_losses,label=\"G\")\n",
    "plt.plot(D_losses,label=\"D\")\n",
    "plt.xlabel(\"iterations\")\n",
    "plt.ylabel(\"Loss\")\n",
    "plt.legend()\n",
    "plt.show()"
   ],
   "metadata": {
    "collapsed": false,
    "pycharm": {
     "name": "#%%\n"
    }
   }
  },
  {
   "cell_type": "markdown",
   "metadata": {
    "pycharm": {
     "name": "#%% md\n"
    }
   },
   "source": [
    "**Visualization of G’s progression**\n",
    "\n",
    "Remember how we saved the generator’s output on the fixed_noise batch\n",
    "after every epoch of training. Now, we can visualize the training\n",
    "progression of G with an animation. Press the play button to start the\n",
    "animation.\n",
    "\n",
    "\n"
   ]
  },
  {
   "cell_type": "markdown",
   "metadata": {
    "pycharm": {
     "name": "#%% md\n"
    }
   },
   "source": [
    "Where to Go Next\n",
    "----------------\n",
    "\n",
    "We have reached the end of our journey, but there are several places you\n",
    "could go from here. You could:\n",
    "\n",
    "-  Train for longer to see how good the results get\n",
    "-  Modify this model to take a different dataset and possibly change the\n",
    "   size of the images and the model architecture\n",
    "-  Check out some other cool GAN projects\n",
    "   `here <https://github.com/nashory/gans-awesome-applications>`__\n",
    "-  Create GANs that generate\n",
    "   `music <https://www.deepmind.com/blog/wavenet-a-generative-model-for-raw-audio/>`__\n",
    "\n"
   ]
  },
  {
   "cell_type": "code",
   "execution_count": 22,
   "outputs": [
    {
     "data": {
      "text/plain": "tensor([0.3477, 0.3548, 0.3342, 0.3442, 0.3375, 0.3564, 0.3687, 0.3611, 0.3448,\n        0.3435, 0.3308, 0.3314, 0.3528, 0.3497, 0.3434, 0.3385],\n       device='cuda:0', grad_fn=<ViewBackward0>)"
     },
     "execution_count": 22,
     "metadata": {},
     "output_type": "execute_result"
    }
   ],
   "source": [
    "# test_data = torch.Tensor(np.array(pd.read_csv(\"data/test_mfcc_data.csv\").iloc[:, 5:]).reshape(-1, 1, 32))\n",
    "\n",
    "netD(next(iter(test_dataloader)).to(device).float()).view(-1)"
   ],
   "metadata": {
    "collapsed": false,
    "pycharm": {
     "name": "#%%\n"
    }
   }
  },
  {
   "cell_type": "code",
   "execution_count": 23,
   "outputs": [],
   "source": [
    "# pd.read_csv(\"data/train_mfcc_data.csv\")\n",
    "\n",
    "# next(iter(test_dataloader))\n",
    "answer = []\n",
    "for i in test_dataloader:\n",
    "    for j in netD(i.to(device).float()).view(-1):\n",
    "        answer.append(j.item())"
   ],
   "metadata": {
    "collapsed": false,
    "pycharm": {
     "name": "#%%\n"
    }
   }
  },
  {
   "cell_type": "code",
   "execution_count": 41,
   "outputs": [
    {
     "name": "stdout",
     "output_type": "stream",
     "text": [
      "             0\n",
      "27    0.421207\n",
      "56    0.424079\n",
      "69    0.422782\n",
      "124   0.412345\n",
      "135   0.393199\n",
      "...        ...\n",
      "5347  0.396105\n",
      "5417  0.411506\n",
      "5495  0.436640\n",
      "5531  0.417677\n",
      "5562  0.423707\n",
      "\n",
      "[68 rows x 1 columns]\n"
     ]
    }
   ],
   "source": [
    "answer_df = pd.DataFrame(answer)\n",
    "\n",
    "print(answer_df[answer_df[0] >= 0.39])\n",
    "answer_df[answer_df[0] >= 0.4] = 1\n",
    "answer_df[answer_df[0] < 0.4] = 0"
   ],
   "metadata": {
    "collapsed": false,
    "pycharm": {
     "name": "#%%\n"
    }
   }
  },
  {
   "cell_type": "code",
   "execution_count": 42,
   "outputs": [],
   "source": [
    "submit = pd.read_csv(\"data/sample_submission.csv\")\n",
    "\n",
    "submit['covid19'] = answer_df[0]\n",
    "submit = submit.astype({'covid19': 'int'})\n",
    "submit.to_csv(\"submission.csv\", index=False)\n",
    "# submit"
   ],
   "metadata": {
    "collapsed": false,
    "pycharm": {
     "name": "#%%\n"
    }
   }
  },
  {
   "cell_type": "code",
   "execution_count": 44,
   "outputs": [
    {
     "data": {
      "text/plain": "        id  covid19\n27    3833        1\n56    3862        1\n69    3875        1\n124   3930        1\n237   4043        1\n310   4116        1\n483   4289        1\n534   4340        1\n667   4473        1\n711   4517        1\n758   4564        1\n853   4659        1\n1015  4821        1\n1306  5112        1\n1354  5160        1\n1481  5287        1\n1515  5321        1\n1702  5508        1\n1718  5524        1\n1884  5690        1\n1888  5694        1\n2008  5814        1\n2082  5888        1\n2692  6498        1\n2694  6500        1\n3388  7194        1\n3432  7238        1\n3592  7398        1\n3825  7631        1\n3854  7660        1\n3887  7693        1\n3907  7713        1\n4178  7984        1\n4219  8025        1\n4658  8464        1\n4661  8467        1\n4710  8516        1\n4775  8581        1\n4793  8599        1\n4849  8655        1\n5037  8843        1\n5233  9039        1\n5282  9088        1\n5336  9142        1\n5417  9223        1\n5495  9301        1\n5531  9337        1\n5562  9368        1",
      "text/html": "<div>\n<style scoped>\n    .dataframe tbody tr th:only-of-type {\n        vertical-align: middle;\n    }\n\n    .dataframe tbody tr th {\n        vertical-align: top;\n    }\n\n    .dataframe thead th {\n        text-align: right;\n    }\n</style>\n<table border=\"1\" class=\"dataframe\">\n  <thead>\n    <tr style=\"text-align: right;\">\n      <th></th>\n      <th>id</th>\n      <th>covid19</th>\n    </tr>\n  </thead>\n  <tbody>\n    <tr>\n      <th>27</th>\n      <td>3833</td>\n      <td>1</td>\n    </tr>\n    <tr>\n      <th>56</th>\n      <td>3862</td>\n      <td>1</td>\n    </tr>\n    <tr>\n      <th>69</th>\n      <td>3875</td>\n      <td>1</td>\n    </tr>\n    <tr>\n      <th>124</th>\n      <td>3930</td>\n      <td>1</td>\n    </tr>\n    <tr>\n      <th>237</th>\n      <td>4043</td>\n      <td>1</td>\n    </tr>\n    <tr>\n      <th>310</th>\n      <td>4116</td>\n      <td>1</td>\n    </tr>\n    <tr>\n      <th>483</th>\n      <td>4289</td>\n      <td>1</td>\n    </tr>\n    <tr>\n      <th>534</th>\n      <td>4340</td>\n      <td>1</td>\n    </tr>\n    <tr>\n      <th>667</th>\n      <td>4473</td>\n      <td>1</td>\n    </tr>\n    <tr>\n      <th>711</th>\n      <td>4517</td>\n      <td>1</td>\n    </tr>\n    <tr>\n      <th>758</th>\n      <td>4564</td>\n      <td>1</td>\n    </tr>\n    <tr>\n      <th>853</th>\n      <td>4659</td>\n      <td>1</td>\n    </tr>\n    <tr>\n      <th>1015</th>\n      <td>4821</td>\n      <td>1</td>\n    </tr>\n    <tr>\n      <th>1306</th>\n      <td>5112</td>\n      <td>1</td>\n    </tr>\n    <tr>\n      <th>1354</th>\n      <td>5160</td>\n      <td>1</td>\n    </tr>\n    <tr>\n      <th>1481</th>\n      <td>5287</td>\n      <td>1</td>\n    </tr>\n    <tr>\n      <th>1515</th>\n      <td>5321</td>\n      <td>1</td>\n    </tr>\n    <tr>\n      <th>1702</th>\n      <td>5508</td>\n      <td>1</td>\n    </tr>\n    <tr>\n      <th>1718</th>\n      <td>5524</td>\n      <td>1</td>\n    </tr>\n    <tr>\n      <th>1884</th>\n      <td>5690</td>\n      <td>1</td>\n    </tr>\n    <tr>\n      <th>1888</th>\n      <td>5694</td>\n      <td>1</td>\n    </tr>\n    <tr>\n      <th>2008</th>\n      <td>5814</td>\n      <td>1</td>\n    </tr>\n    <tr>\n      <th>2082</th>\n      <td>5888</td>\n      <td>1</td>\n    </tr>\n    <tr>\n      <th>2692</th>\n      <td>6498</td>\n      <td>1</td>\n    </tr>\n    <tr>\n      <th>2694</th>\n      <td>6500</td>\n      <td>1</td>\n    </tr>\n    <tr>\n      <th>3388</th>\n      <td>7194</td>\n      <td>1</td>\n    </tr>\n    <tr>\n      <th>3432</th>\n      <td>7238</td>\n      <td>1</td>\n    </tr>\n    <tr>\n      <th>3592</th>\n      <td>7398</td>\n      <td>1</td>\n    </tr>\n    <tr>\n      <th>3825</th>\n      <td>7631</td>\n      <td>1</td>\n    </tr>\n    <tr>\n      <th>3854</th>\n      <td>7660</td>\n      <td>1</td>\n    </tr>\n    <tr>\n      <th>3887</th>\n      <td>7693</td>\n      <td>1</td>\n    </tr>\n    <tr>\n      <th>3907</th>\n      <td>7713</td>\n      <td>1</td>\n    </tr>\n    <tr>\n      <th>4178</th>\n      <td>7984</td>\n      <td>1</td>\n    </tr>\n    <tr>\n      <th>4219</th>\n      <td>8025</td>\n      <td>1</td>\n    </tr>\n    <tr>\n      <th>4658</th>\n      <td>8464</td>\n      <td>1</td>\n    </tr>\n    <tr>\n      <th>4661</th>\n      <td>8467</td>\n      <td>1</td>\n    </tr>\n    <tr>\n      <th>4710</th>\n      <td>8516</td>\n      <td>1</td>\n    </tr>\n    <tr>\n      <th>4775</th>\n      <td>8581</td>\n      <td>1</td>\n    </tr>\n    <tr>\n      <th>4793</th>\n      <td>8599</td>\n      <td>1</td>\n    </tr>\n    <tr>\n      <th>4849</th>\n      <td>8655</td>\n      <td>1</td>\n    </tr>\n    <tr>\n      <th>5037</th>\n      <td>8843</td>\n      <td>1</td>\n    </tr>\n    <tr>\n      <th>5233</th>\n      <td>9039</td>\n      <td>1</td>\n    </tr>\n    <tr>\n      <th>5282</th>\n      <td>9088</td>\n      <td>1</td>\n    </tr>\n    <tr>\n      <th>5336</th>\n      <td>9142</td>\n      <td>1</td>\n    </tr>\n    <tr>\n      <th>5417</th>\n      <td>9223</td>\n      <td>1</td>\n    </tr>\n    <tr>\n      <th>5495</th>\n      <td>9301</td>\n      <td>1</td>\n    </tr>\n    <tr>\n      <th>5531</th>\n      <td>9337</td>\n      <td>1</td>\n    </tr>\n    <tr>\n      <th>5562</th>\n      <td>9368</td>\n      <td>1</td>\n    </tr>\n  </tbody>\n</table>\n</div>"
     },
     "execution_count": 44,
     "metadata": {},
     "output_type": "execute_result"
    }
   ],
   "source": [
    "submit[submit['covid19'] >= 0.39]"
   ],
   "metadata": {
    "collapsed": false,
    "pycharm": {
     "name": "#%%\n"
    }
   }
  },
  {
   "cell_type": "code",
   "execution_count": 37,
   "outputs": [
    {
     "data": {
      "text/plain": "        id  covid19\n18    3824        1\n75    3881        1\n288   4094        1\n289   4095        1\n531   4337        1\n...    ...      ...\n5366  9172        1\n5429  9235        1\n5443  9249        1\n5669  9475        1\n5703  9509        1\n\n[78 rows x 2 columns]",
      "text/html": "<div>\n<style scoped>\n    .dataframe tbody tr th:only-of-type {\n        vertical-align: middle;\n    }\n\n    .dataframe tbody tr th {\n        vertical-align: top;\n    }\n\n    .dataframe thead th {\n        text-align: right;\n    }\n</style>\n<table border=\"1\" class=\"dataframe\">\n  <thead>\n    <tr style=\"text-align: right;\">\n      <th></th>\n      <th>id</th>\n      <th>covid19</th>\n    </tr>\n  </thead>\n  <tbody>\n    <tr>\n      <th>18</th>\n      <td>3824</td>\n      <td>1</td>\n    </tr>\n    <tr>\n      <th>75</th>\n      <td>3881</td>\n      <td>1</td>\n    </tr>\n    <tr>\n      <th>288</th>\n      <td>4094</td>\n      <td>1</td>\n    </tr>\n    <tr>\n      <th>289</th>\n      <td>4095</td>\n      <td>1</td>\n    </tr>\n    <tr>\n      <th>531</th>\n      <td>4337</td>\n      <td>1</td>\n    </tr>\n    <tr>\n      <th>...</th>\n      <td>...</td>\n      <td>...</td>\n    </tr>\n    <tr>\n      <th>5366</th>\n      <td>9172</td>\n      <td>1</td>\n    </tr>\n    <tr>\n      <th>5429</th>\n      <td>9235</td>\n      <td>1</td>\n    </tr>\n    <tr>\n      <th>5443</th>\n      <td>9249</td>\n      <td>1</td>\n    </tr>\n    <tr>\n      <th>5669</th>\n      <td>9475</td>\n      <td>1</td>\n    </tr>\n    <tr>\n      <th>5703</th>\n      <td>9509</td>\n      <td>1</td>\n    </tr>\n  </tbody>\n</table>\n<p>78 rows × 2 columns</p>\n</div>"
     },
     "execution_count": 37,
     "metadata": {},
     "output_type": "execute_result"
    }
   ],
   "source": [
    "df = pd.read_csv(\"MLP (100, 100, 100).csv\")\n",
    "df[df['covid19'] == 1]"
   ],
   "metadata": {
    "collapsed": false,
    "pycharm": {
     "name": "#%%\n"
    }
   }
  }
 ],
 "metadata": {
  "kernelspec": {
   "display_name": "Python 3 (ipykernel)",
   "language": "python",
   "name": "python3"
  },
  "language_info": {
   "codemirror_mode": {
    "name": "ipython",
    "version": 3
   },
   "file_extension": ".py",
   "mimetype": "text/x-python",
   "name": "python",
   "nbconvert_exporter": "python",
   "pygments_lexer": "ipython3",
   "version": "3.8.10"
  }
 },
 "nbformat": 4,
 "nbformat_minor": 1
}